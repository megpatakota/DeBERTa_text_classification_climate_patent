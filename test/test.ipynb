{
 "cells": [
  {
   "cell_type": "code",
   "execution_count": 2,
   "metadata": {},
   "outputs": [],
   "source": [
    "import pandas as pd"
   ]
  },
  {
   "cell_type": "code",
   "execution_count": 4,
   "metadata": {},
   "outputs": [
    {
     "data": {
      "text/html": [
       "<div>\n",
       "<style scoped>\n",
       "    .dataframe tbody tr th:only-of-type {\n",
       "        vertical-align: middle;\n",
       "    }\n",
       "\n",
       "    .dataframe tbody tr th {\n",
       "        vertical-align: top;\n",
       "    }\n",
       "\n",
       "    .dataframe thead th {\n",
       "        text-align: right;\n",
       "    }\n",
       "</style>\n",
       "<table border=\"1\" class=\"dataframe\">\n",
       "  <thead>\n",
       "    <tr style=\"text-align: right;\">\n",
       "      <th></th>\n",
       "      <th>abstract</th>\n",
       "      <th>title</th>\n",
       "      <th>claims</th>\n",
       "      <th>yo2</th>\n",
       "      <th>full_text</th>\n",
       "    </tr>\n",
       "  </thead>\n",
       "  <tbody>\n",
       "    <tr>\n",
       "      <th>0</th>\n",
       "      <td>scanning module including first path shifting ...</td>\n",
       "      <td>scanning module  detection device using bessel...</td>\n",
       "      <td>a scanning module comprising  a first path ...</td>\n",
       "      <td>0</td>\n",
       "      <td>scanning module  detection device using bessel...</td>\n",
       "    </tr>\n",
       "    <tr>\n",
       "      <th>1</th>\n",
       "      <td>present invention relates lighting structure u...</td>\n",
       "      <td>lighting structure</td>\n",
       "      <td>a lighting structure adapted to be coupled w...</td>\n",
       "      <td>0</td>\n",
       "      <td>lighting structurepresent invention relates li...</td>\n",
       "    </tr>\n",
       "    <tr>\n",
       "      <th>2</th>\n",
       "      <td>improved method storing retrieving cookware ut...</td>\n",
       "      <td>detachable hanging assembly for cookware and u...</td>\n",
       "      <td>a cookware hanging assembly able to be insta...</td>\n",
       "      <td>0</td>\n",
       "      <td>detachable hanging assembly for cookware and u...</td>\n",
       "    </tr>\n",
       "    <tr>\n",
       "      <th>3</th>\n",
       "      <td>biocompatible controlled release form complexe...</td>\n",
       "      <td>composition and methods for antimicrobial arti...</td>\n",
       "      <td>canceled     a method for treating a wo...</td>\n",
       "      <td>0</td>\n",
       "      <td>composition and methods for antimicrobial arti...</td>\n",
       "    </tr>\n",
       "    <tr>\n",
       "      <th>4</th>\n",
       "      <td>disclosure includes auxiliary line riser segme...</td>\n",
       "      <td>large width diameter riser segment lowerable t...</td>\n",
       "      <td>a riser segment assembly comprising  a main...</td>\n",
       "      <td>0</td>\n",
       "      <td>large width diameter riser segment lowerable t...</td>\n",
       "    </tr>\n",
       "  </tbody>\n",
       "</table>\n",
       "</div>"
      ],
      "text/plain": [
       "                                            abstract  \\\n",
       "0  scanning module including first path shifting ...   \n",
       "1  present invention relates lighting structure u...   \n",
       "2  improved method storing retrieving cookware ut...   \n",
       "3  biocompatible controlled release form complexe...   \n",
       "4  disclosure includes auxiliary line riser segme...   \n",
       "\n",
       "                                               title  \\\n",
       "0  scanning module  detection device using bessel...   \n",
       "1                                 lighting structure   \n",
       "2  detachable hanging assembly for cookware and u...   \n",
       "3  composition and methods for antimicrobial arti...   \n",
       "4  large width diameter riser segment lowerable t...   \n",
       "\n",
       "                                              claims  yo2  \\\n",
       "0     a scanning module comprising  a first path ...    0   \n",
       "1    a lighting structure adapted to be coupled w...    0   \n",
       "2    a cookware hanging assembly able to be insta...    0   \n",
       "3         canceled     a method for treating a wo...    0   \n",
       "4     a riser segment assembly comprising  a main...    0   \n",
       "\n",
       "                                           full_text  \n",
       "0  scanning module  detection device using bessel...  \n",
       "1  lighting structurepresent invention relates li...  \n",
       "2  detachable hanging assembly for cookware and u...  \n",
       "3  composition and methods for antimicrobial arti...  \n",
       "4  large width diameter riser segment lowerable t...  "
      ]
     },
     "execution_count": 4,
     "metadata": {},
     "output_type": "execute_result"
    }
   ],
   "source": [
    "df = pd.read_csv('../data/climate_patent_data.csv')\n",
    "df.head()"
   ]
  },
  {
   "cell_type": "code",
   "execution_count": 5,
   "metadata": {},
   "outputs": [
    {
     "data": {
      "text/plain": [
       "yo2\n",
       "0    22676\n",
       "1     2324\n",
       "Name: count, dtype: int64"
      ]
     },
     "execution_count": 5,
     "metadata": {},
     "output_type": "execute_result"
    }
   ],
   "source": [
    "df['yo2'].value_counts( )"
   ]
  }
 ],
 "metadata": {
  "kernelspec": {
   "display_name": "climate-patent-project-96j3MAcc-py3.12",
   "language": "python",
   "name": "python3"
  },
  "language_info": {
   "codemirror_mode": {
    "name": "ipython",
    "version": 3
   },
   "file_extension": ".py",
   "mimetype": "text/x-python",
   "name": "python",
   "nbconvert_exporter": "python",
   "pygments_lexer": "ipython3",
   "version": "3.12.6"
  }
 },
 "nbformat": 4,
 "nbformat_minor": 2
}
